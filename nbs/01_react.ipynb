{
 "cells": [
  {
   "attachments": {},
   "cell_type": "markdown",
   "metadata": {},
   "source": [
    "# ReAct Bot"
   ]
  },
  {
   "cell_type": "code",
   "execution_count": 1,
   "metadata": {
    "vscode": {
     "languageId": "python"
    }
   },
   "outputs": [],
   "source": [
    "#| default_exp react"
   ]
  },
  {
   "cell_type": "code",
   "execution_count": 2,
   "metadata": {
    "vscode": {
     "languageId": "python"
    }
   },
   "outputs": [],
   "source": [
    "#| export\n",
    "import re\n",
    "\n",
    "from fastcore.all import *\n",
    "\n",
    "from chat_react.core import *"
   ]
  },
  {
   "attachments": {},
   "cell_type": "markdown",
   "metadata": {},
   "source": [
    "## Exceptions"
   ]
  },
  {
   "cell_type": "code",
   "execution_count": 3,
   "metadata": {
    "vscode": {
     "languageId": "python"
    }
   },
   "outputs": [],
   "source": [
    "#| export\n",
    "class CancelCallTool(Exception): pass\n",
    "class CancelStep(Exception): pass\n",
    "class CancelLLM(Exception): pass\n",
    "class CancelParse(Exception): pass\n",
    "class CancelRun(Exception): pass"
   ]
  },
  {
   "attachments": {},
   "cell_type": "markdown",
   "metadata": {},
   "source": [
    "## Callbacks"
   ]
  },
  {
   "cell_type": "code",
   "execution_count": 38,
   "metadata": {
    "vscode": {
     "languageId": "python"
    }
   },
   "outputs": [],
   "source": [
    "#| export\n",
    "class LogMessagesCB:\n",
    "    def after_llm(self, bot, out): print(out[0])\n",
    "    def after_call_tool(self, bot, out): print(f'Output: {out}')"
   ]
  },
  {
   "cell_type": "code",
   "execution_count": 39,
   "metadata": {
    "vscode": {
     "languageId": "python"
    }
   },
   "outputs": [],
   "source": [
    "#| export\n",
    "class CostCB:\n",
    "    def __init__(self, cost=0): store_attr()\n",
    "    def after_llm(self, bot, args):\n",
    "        print(f'Cost: ${args[1]}')\n",
    "        self.cost += args[1]\n",
    "    def after_run(self, bot, cost):\n",
    "        print(f'Total cost: ${self.cost}')"
   ]
  },
  {
   "cell_type": "code",
   "execution_count": 40,
   "metadata": {
    "vscode": {
     "languageId": "python"
    }
   },
   "outputs": [],
   "source": [
    "#| export\n",
    "class React:\n",
    "    def __init__(self, prompt=None, examples=[], tools=[], cbs=[], max_turns=10, end_tool='finish'):\n",
    "        store_attr()\n",
    "        if not prompt:\n",
    "            prompt = self.base_prompt(tools)\n",
    "        self.messages = [hm(prompt)] + examples + [aim(\"Though: I have to greet the user\\nAction: send_to_user[Hi, I am an AI, how can I help you today?]\")]\n",
    "    \n",
    "    def base_prompt(self, tools): \n",
    "        prompt = \"You can use the following tools:\\n\" + '\\n'.join([f\"- {tool.__name__}\" for tool in tools])\n",
    "        prompt += \"Before using a tool think about what you want to do and write it down in a sentence.\\n\"\n",
    "        prompt += \"Use the following format:\\nThougth: <your thought>\\nAction: <tool_name>[<tool_input>]\\n\\n\"\n",
    "        return prompt\n",
    "    \n",
    "    def llm(self, messages): return chat_create(messages)\n",
    "\n",
    "    def with_cbs(self, name, exception, *args, **kwargs):\n",
    "        for cb in self.cbs:\n",
    "            if hasattr(cb, f'before_{name}'): getattr(cb, f'before_{name}')(self, *args, **kwargs)\n",
    "        try: result = getattr(self, name)(*args, **kwargs) \n",
    "        except exception as e:\n",
    "            for cb in self.cbs:\n",
    "                if hasattr(cb, f'after_cancel_{name}'): getattr(cb, f'after_cancel_{name}')(self, *args, **kwargs)\n",
    "            return\n",
    "        for cb in self.cbs:\n",
    "            if hasattr(cb, f'after_{name}'): getattr(cb, f'after_{name}')(self, result)\n",
    "        return result\n",
    "    \n",
    "    def __call__(self, query):\n",
    "        return self.with_cbs('run', CancelRun, self.messages + [hm(f'Output: {query}')])\n",
    "    \n",
    "    def run(self, messages):\n",
    "        for i in range(self.max_turns):\n",
    "            messages, tool_name, tool_input = self.with_cbs('step', CancelStep, messages)\n",
    "            if tool_name == self.end_tool: break\n",
    "        return messages, tool_name, tool_input\n",
    "\n",
    "\n",
    "    def step(self, messages):\n",
    "        out, cost = self.with_cbs('llm', CancelLLM, messages)\n",
    "        messages.append(aim(out))\n",
    "        tool_name, tool_input = self.with_cbs('parse_output', CancelParse, out)\n",
    "        if tool_name != self.end_tool:\n",
    "            tool_output = self.with_cbs('call_tool', CancelCallTool, tool_name, tool_input)\n",
    "            messages.append(hm(f\"Output: {tool_output}\"))\n",
    "        return messages, tool_name, tool_input\n",
    "    \n",
    "    def parse_output(self, text):\n",
    "        \"\"\"Parses text into action and action_input.\"\"\"\n",
    "        i = text.find('Action:')\n",
    "        m = re.match(r\"Action: (?P<tool_name>.*)\\[(?P<tool_input>.*)\\]\", text[i:], re.DOTALL)\n",
    "        if not m: raise Exception\n",
    "        return m.group(1, 2)\n",
    "\n",
    "    def call_tool(self, tool_name, tool_input):\n",
    "        for tool in self.tools: \n",
    "            if tool.__name__ == tool_name: return tool(tool_input)"
   ]
  },
  {
   "cell_type": "code",
   "execution_count": 41,
   "metadata": {
    "vscode": {
     "languageId": "python"
    }
   },
   "outputs": [],
   "source": [
    "#| export\n",
    "def calculator(s):\n",
    "    \"\"\"python interpreter\"\"\"\n",
    "    return eval(s)"
   ]
  },
  {
   "cell_type": "code",
   "execution_count": 42,
   "metadata": {
    "vscode": {
     "languageId": "python"
    }
   },
   "outputs": [],
   "source": [
    "#| export\n",
    "def send_to_user(m):\n",
    "    \"\"\"ask a question to the user\"\"\"\n",
    "    print(m)\n",
    "    return input"
   ]
  },
  {
   "cell_type": "code",
   "execution_count": 43,
   "metadata": {
    "vscode": {
     "languageId": "python"
    }
   },
   "outputs": [],
   "source": [
    "#| export\n",
    "def finish():\n",
    "    \"\"\"send your final answer to the user\"\"\""
   ]
  },
  {
   "cell_type": "code",
   "execution_count": 44,
   "metadata": {
    "vscode": {
     "languageId": "python"
    }
   },
   "outputs": [],
   "source": [
    "examples = [aim(\"Though: I have to greet the user\\nAction: send_to_user[Hi, I am an AI, how can I help you today?]\"),\n",
    "            hm(\"Output: how much is 45+32\"),\n",
    "            aim(\"Though: I have to calculate 45+32\\nAction: calculator[45+32]\"),\n",
    "            hm(\"Output: 77\"),aim(\"Though: I know the answer to the user question\\nAction: finish[77]\")]"
   ]
  },
  {
   "cell_type": "code",
   "execution_count": 45,
   "metadata": {
    "vscode": {
     "languageId": "python"
    }
   },
   "outputs": [],
   "source": [
    "bot = React(examples=examples, tools=[calculator, send_to_user, finish], cbs=[LogMessagesCB(), CostCB()])"
   ]
  },
  {
   "cell_type": "code",
   "execution_count": 46,
   "metadata": {
    "vscode": {
     "languageId": "python"
    }
   },
   "outputs": [
    {
     "name": "stdout",
     "output_type": "stream",
     "text": [
      "Though: I have to calculate 1951*95109\n",
      "Action: calculator[1951*95109]\n",
      "Cost: $0.000488\n",
      "Output: 185557659\n",
      "Though: I know the answer to the user question\n",
      "Action: finish[185557659]\n",
      "Cost: $0.000558\n",
      "Total cost: $0.001046\n"
     ]
    }
   ],
   "source": [
    "x = 1951\n",
    "y = 95109\n",
    "_, _, out = bot(f\"how much is {x}*{y}\")\n",
    "test_eq(int(out), x*y)"
   ]
  },
  {
   "cell_type": "code",
   "execution_count": 47,
   "metadata": {
    "vscode": {
     "languageId": "python"
    }
   },
   "outputs": [
    {
     "name": "stdout",
     "output_type": "stream",
     "text": [
      "Total cost: $5.6e-05\n"
     ]
    }
   ],
   "source": [
    "out, cost = chat_create([hm(f\"how much is {x}*{y}. output only the result with no commas\")])\n",
    "print(f'Total cost: ${cost}')\n",
    "test_ne(int(out), x*y)"
   ]
  },
  {
   "cell_type": "code",
   "execution_count": null,
   "metadata": {
    "vscode": {
     "languageId": "python"
    }
   },
   "outputs": [],
   "source": [
    "#| hide\n",
    "import nbdev; nbdev.nbdev_export()"
   ]
  }
 ],
 "metadata": {
  "kernelspec": {
   "display_name": "python3",
   "language": "python",
   "name": "python3"
  }
 },
 "nbformat": 4,
 "nbformat_minor": 2
}
