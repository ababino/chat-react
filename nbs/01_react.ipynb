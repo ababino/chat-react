{
 "cells": [
  {
   "attachments": {},
   "cell_type": "markdown",
   "metadata": {},
   "source": [
    "# ReAct Bot"
   ]
  },
  {
   "cell_type": "code",
   "execution_count": null,
   "metadata": {},
   "outputs": [],
   "source": [
    "#| default_exp react"
   ]
  },
  {
   "cell_type": "code",
   "execution_count": 1,
   "metadata": {},
   "outputs": [],
   "source": [
    "#| export\n",
    "import re\n",
    "\n",
    "from fastcore.all import *\n",
    "\n",
    "from chat_react.core import *"
   ]
  },
  {
   "cell_type": "code",
   "execution_count": 132,
   "metadata": {},
   "outputs": [],
   "source": [
    "#| export\n",
    "class CancelCallTool(Exception): pass\n",
    "class CancelStep(Exception): pass\n",
    "class CancelLLM(Exception): pass\n",
    "class CancelParse(Exception): pass"
   ]
  },
  {
   "cell_type": "code",
   "execution_count": 170,
   "metadata": {},
   "outputs": [],
   "source": [
    "#| export\n",
    "class LogMessagesCB:\n",
    "    def after_llm(self, bot, out): print(out)\n",
    "    def after_call_tool(self, bot, out): print(f'Output: {out}')"
   ]
  },
  {
   "cell_type": "code",
   "execution_count": 171,
   "metadata": {},
   "outputs": [],
   "source": [
    "#| export\n",
    "class React:\n",
    "    def __init__(self, prompt, examples, tools=[], cbs=[], max_turns=10, end_tool='finish'):\n",
    "        self.prompt = prompt\n",
    "        # self.tools = tools\n",
    "        store_attr()\n",
    "        self.messages = [hm(prompt)] + examples + [aim(\"Though: I have to greet the user\\nAction: send_to_user[Hi, I am an AI, how can I help you today?]\")]\n",
    "    \n",
    "    def llm(self, messages): return chat_create(messages)\n",
    "\n",
    "    def with_cbs(self, name, exception, *args, **kwargs):\n",
    "        for cb in self.cbs:\n",
    "            if hasattr(cb, f'before_{name}'): getattr(cb, f'before_{name}')(self, *args, **kwargs)\n",
    "        try: result = getattr(self, name)(*args, **kwargs) \n",
    "        except exception as e:\n",
    "            for cb in self.cbs:\n",
    "                if hasattr(cb, f'after_cancel_{name}'): getattr(cb, f'after_cancel_{name}')(self, *args, **kwargs)\n",
    "            return\n",
    "        for cb in self.cbs:\n",
    "            if hasattr(cb, f'after_{name}'): getattr(cb, f'after_{name}')(self, result)\n",
    "        return result\n",
    "    \n",
    "    def __call__(self, query):\n",
    "        return self.run(self.messages + [hm(f'Output: {query}')])\n",
    "    \n",
    "    def run(self, messages):\n",
    "        for i in range(self.max_turns):\n",
    "            messages, tool_name, tool_input = self.with_cbs('step', CancelStep, messages)\n",
    "            if tool_name == self.end_tool: break\n",
    "        return messages, tool_name, tool_input\n",
    "\n",
    "\n",
    "    def step(self, messages):\n",
    "        out = self.with_cbs('llm', CancelLLM, messages)\n",
    "        messages.append(aim(out))\n",
    "        tool_name, tool_input = self.with_cbs('parse_output', CancelParse, out)\n",
    "        if tool_name != self.end_tool:\n",
    "            tool_output = self.with_cbs('call_tool', CancelCallTool, tool_name, tool_input)\n",
    "            messages.append(hm(f\"Output: {tool_output}\"))\n",
    "        return messages, tool_name, tool_input\n",
    "    \n",
    "    def parse_output(self, text):\n",
    "        \"\"\"Parses text into action and action_input.\"\"\"\n",
    "        i = text.find('Action:')\n",
    "        m = re.match(r\"Action: (?P<tool_name>.*)\\[(?P<tool_input>.*)\\]\", text[i:], re.DOTALL)\n",
    "        if not m: raise Exception\n",
    "        return m.group(1, 2)\n",
    "\n",
    "    def call_tool(self, tool_name, tool_input):\n",
    "        for tool in self.tools: \n",
    "            if tool.__name__ == tool_name: return tool(tool_input)\n",
    "    \n",
    "    @classmethod\n",
    "    def from_funs(cls, funs, cbs=[]):\n",
    "        tools = [{fun.__name__: fun} for fun in funs]\n",
    "        if 'send_to_user' not in tools: tools.append({'send_to_user': input})\n",
    "        if 'finish' not in tools: tools.append({'finish': None})\n",
    "        prompt = \"You can use the following tools:\\n\" + '\\n'.join([f\"- {list(tool.keys())[0]}\" for tool in tools])\n",
    "        prompt += \"Before using a tool think about what you want to do and write it down in a sentence.\\n\"\n",
    "        prompt += \"Use the following format:\\nThougth: <your thought>\\nAction: <tool_name>[<tool_input>]\\n\\n\"\n",
    "        examples = [aim(\"Though: I have to great the user\\nAction: send_to_user[Hi, I am an AI, how can I help you today?]\"),\n",
    "                    hm(\"Output: how much is 45+32\"),\n",
    "                    aim(\"Though: I have to calculate 45+32\\nAction: calculator[45+32]\"),\n",
    "                    hm(\"Output: 77\"),aim(\"Though: I know the answer to the user question\\nAction: finish[77]\")]\n",
    "        return cls(prompt=prompt, examples=examples, tools=funs, cbs=cbs)"
   ]
  },
  {
   "cell_type": "code",
   "execution_count": 172,
   "metadata": {},
   "outputs": [],
   "source": [
    "#| export\n",
    "def calculator(s):\n",
    "    \"\"\"python interpreter\"\"\"\n",
    "    return eval(s)"
   ]
  },
  {
   "cell_type": "code",
   "execution_count": 173,
   "metadata": {},
   "outputs": [],
   "source": [
    "bot = React.from_funs([calculator], cbs=[LogMessagesCB()])"
   ]
  },
  {
   "cell_type": "code",
   "execution_count": 186,
   "metadata": {},
   "outputs": [
    {
     "name": "stdout",
     "output_type": "stream",
     "text": [
      "Though: I have to calculate 1951*95109\n",
      "Action: calculator[1951*95109]\n",
      "Output: 185557659\n",
      "Though: I know the answer to the user question\n",
      "Action: finish[185557659]\n",
      "185557659\n"
     ]
    }
   ],
   "source": [
    "x = 1951\n",
    "y = 95109\n",
    "_, _, out = bot(f\"how much is {x}*{y}\")\n",
    "test_eq(int(out) == x*y)"
   ]
  },
  {
   "cell_type": "code",
   "execution_count": 188,
   "metadata": {},
   "outputs": [],
   "source": [
    "out = chat_create([hm(f\"how much is {x}*{y}. output only the result with no commas\")])\n",
    "test_ne(int(out), x*y)"
   ]
  },
  {
   "cell_type": "code",
   "execution_count": 189,
   "metadata": {},
   "outputs": [],
   "source": [
    "#| hide\n",
    "import nbdev; nbdev.nbdev_export()"
   ]
  }
 ],
 "metadata": {
  "kernelspec": {
   "display_name": "Python 3",
   "language": "python",
   "name": "python3"
  },
  "language_info": {
   "codemirror_mode": {
    "name": "ipython",
    "version": 3
   },
   "file_extension": ".py",
   "mimetype": "text/x-python",
   "name": "python",
   "nbconvert_exporter": "python",
   "pygments_lexer": "ipython3",
   "version": "3.11.3"
  },
  "orig_nbformat": 4
 },
 "nbformat": 4,
 "nbformat_minor": 2
}
